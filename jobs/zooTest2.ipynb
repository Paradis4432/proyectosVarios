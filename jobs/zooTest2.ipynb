{
 "cells": [
  {
   "cell_type": "code",
   "execution_count": 7,
   "metadata": {},
   "outputs": [],
   "source": [
    "import requests\n",
    "from twocaptcha import TwoCaptcha"
   ]
  },
  {
   "cell_type": "code",
   "execution_count": 27,
   "metadata": {},
   "outputs": [],
   "source": [
    "TWOCAPTCHA_API_KEY = '33a1c886c37c666b6cbfd5e8b7cbdd19'\n",
    "\n",
    "token = TwoCaptcha(TWOCAPTCHA_API_KEY).hcaptcha(\n",
    "    sitekey='41092c54-1ee4-42eb-9bcc-a31d3a665dbd', url='https://www.zoosk.com/login/email')['code']\n"
   ]
  },
  {
   "cell_type": "code",
   "execution_count": 28,
   "metadata": {},
   "outputs": [],
   "source": [
    "\n",
    "\n",
    "username = \"ogarcia608@gmail.com\"\n",
    "password = \"Durango24\"\n",
    "data = {\n",
    "    \"login\": username,\n",
    "    \"password\": password,\n",
    "    'pong_light': '1',\n",
    "    # 'blackbox': '',\n",
    "    'hCaptcha_Token': token\n",
    "}\n",
    "\n",
    "headers = {\n",
    "    'authority': 'www.zoosk.com',\n",
    "    'pragma': 'no-cache',\n",
    "    'cache-control': 'no-cache',\n",
    "    'sec-ch-ua': '\"Chromium\";v=\"92\", \" Not A;Brand\";v=\"99\", \"Google Chrome\";v=\"92\"',\n",
    "    'accept': 'application/json, text/plain, */*',\n",
    "    'x-zoosk-csrf': 'zoosk-csrf-2019',\n",
    "    'sec-ch-ua-mobile': '?0',\n",
    "    'user-agent': 'Mozilla/5.0 (Windows NT 10.0; Win64; x64) AppleWebKit/537.36 (KHTML, like Gecko) Chrome/92.0.4515.159 Safari/537.36',\n",
    "    'content-type': 'application/x-www-form-urlencoded;charset=UTF-8',\n",
    "    'origin': 'https://www.zoosk.com',\n",
    "    'sec-fetch-site': 'same-origin',\n",
    "    'sec-fetch-mode': 'cors',\n",
    "    'sec-fetch-dest': 'empty',\n",
    "    'referer': 'https://www.zoosk.com/',\n",
    "    'accept-language': 'en-US,en;q=0.9,fr-FR;q=0.8,fr;q=0.7',\n",
    "}\n",
    "\n",
    "proxy_login = 'system'\n",
    "proxy_pass = '1234567'\n",
    "prx = \"gate.smartproxy.com:7000\"\n",
    "proxy = {'http://': f'http://{proxy_login}:{proxy_pass}@{prx}',\n",
    "         'https://': f'http://{proxy_login}:{proxy_pass}@{prx}'}"
   ]
  },
  {
   "cell_type": "code",
   "execution_count": 29,
   "metadata": {},
   "outputs": [],
   "source": [
    "s = requests.Session()\n"
   ]
  },
  {
   "cell_type": "code",
   "execution_count": 30,
   "metadata": {},
   "outputs": [],
   "source": [
    "s.get(\"https://www.zoosk.com/\")\n",
    "\n",
    "user = s.post(\"https://www.zoosk.com/v4.0/login/general_v42.php?format=json&product=1&locale=en_US\", data=data, headers=headers, timeout=15)"
   ]
  },
  {
   "cell_type": "code",
   "execution_count": 31,
   "metadata": {},
   "outputs": [
    {
     "data": {
      "text/plain": [
       "200"
      ]
     },
     "execution_count": 31,
     "metadata": {},
     "output_type": "execute_result"
    }
   ],
   "source": [
    "user.status_code"
   ]
  },
  {
   "cell_type": "code",
   "execution_count": 47,
   "metadata": {},
   "outputs": [],
   "source": [
    "data = {\n",
    "    'requestedPath': '/personals/datecard/me'\n",
    "}\n",
    "\n",
    "userFinalData = s.post(\n",
    "    'https://www.zoosk.com/bootstrap/personals', timeout=15)\n"
   ]
  },
  {
   "cell_type": "code",
   "execution_count": 48,
   "metadata": {},
   "outputs": [
    {
     "data": {
      "text/plain": [
       "200"
      ]
     },
     "execution_count": 48,
     "metadata": {},
     "output_type": "execute_result"
    }
   ],
   "source": [
    "userFinalData.status_code"
   ]
  },
  {
   "cell_type": "code",
   "execution_count": 49,
   "metadata": {},
   "outputs": [
    {
     "data": {
      "text/plain": [
       "b'<!DOCTYPE html>\\n<html lang=\"en\">\\n<head>\\n<meta charset=\"utf-8\">\\n<meta name=\"viewport\" content=\"width=device-width, initial-scale=1.0\">\\n<base href=\"/\">\\n<link rel=\"icon\" type=\"image/x-icon\" href=\"favicon.ico\">\\n<link rel=\"stylesheet\" href=\"https://static3.zoosk.com/browser-angular2-ci1641897465/touch/en-US/styles.c20a9538aca8cb11ad1f.css\"><title>Zoosk | Online Dating Site & App to Find Your Perfect Match</title><meta charset=\"utf-8\"><meta name=\"pinterest\" content=\"nopin\" /><meta name=\"google-site-verification\" content=\"JwrWZJ5ulynkyKfnkAUWv_EuMiERY1Wvjb1p3_m6PwY\" /><link href=\"https://fonts.googleapis.com/css?family=Poppins:400,700|Spartan:400,700&display=swap\" rel=\"stylesheet\"><meta name=\"description\" content=\"Meet local singles with Zoosk, an online dating site and dating app that makes it so simple to find your perfect match. Put some love in your life today!\"><meta name=\"viewport\" content=\" width=device-width, initial-scale=1.0\" /><meta name=\"robots\" content=\"noindex,nofollow\" />\\n<script async src=\"https://www.googletagmanager.com/gtag/js?id=AW-1046230180\"></script>\\n<script>\\nwindow.dataLayer = window.dataLayer || [];\\nfunction gtag(){dataLayer.push(arguments);}\\ngtag(\\'js\\', new Date());\\n\\ngtag(\\'config\\', \\'AW-1046230180\\');\\n</script><script type=\"text/javascript\"></script><script type=\"text/javascript\">(function(w,d,s,l,i){w[l]=w[l]||[];w[l].push({\\'gtm.start\\':new Date().getTime(),event:\\'gtm.js\\'});var f=d.getElementsByTagName(s)[0],j=d.createElement(s),dl=l!=\\'dataLayer\\'?\\'&l=\\'+l:\\'\\';j.async=true;j.src=\\'https://www.googletagmanager.com/gtm.js?id=\\'+i+dl;f.parentNode.insertBefore(j,f);})(window,document,\\'script\\',\\'dataLayer\\',\\'GTM-KL8LPTM\\');</script><script type=\"text/javascript\">document.domain = \\'zoosk.com\\';</script></head>\\n<body>\\n\\n<noscript>\\n    <iframe src=\"https://www.googletagmanager.com/ns.html?id=GTM-KL8LPTM\" height=\"0\" width=\"0\" style=\"display:none;visibility:hidden\"></iframe>\\n  </noscript>\\n<app-head></app-head>\\n<touch-root></touch-root>\\n<script src=\"https://static3.zoosk.com/browser-angular2-ci1641897465/touch/en-US/runtime.ab3588a610281ce9c579.js\" defer></script><script src=\"https://static3.zoosk.com/browser-angular2-ci1641897465/touch/en-US/polyfills-es5.2ccc3ce39e046f07e2a0.js\" nomodule defer></script><script src=\"https://static3.zoosk.com/browser-angular2-ci1641897465/touch/en-US/polyfills.506d940f46be8e5b03bc.js\" defer></script><script src=\"https://static3.zoosk.com/browser-angular2-ci1641897465/touch/en-US/scripts.fb94810fa5303a2a0b24.js\" defer></script><script src=\"https://static3.zoosk.com/browser-angular2-ci1641897465/touch/en-US/main.f7484228a8d6a34fd19c.js\" defer></script></body>\\n</html>\\n'"
      ]
     },
     "execution_count": 49,
     "metadata": {},
     "output_type": "execute_result"
    }
   ],
   "source": [
    "userFinalData.content"
   ]
  },
  {
   "cell_type": "code",
   "execution_count": null,
   "metadata": {},
   "outputs": [],
   "source": []
  }
 ],
 "metadata": {
  "interpreter": {
   "hash": "dea5d8f8cc29cf9e16293dbdf8747b85e5f69ab66d8365066b488317c9976378"
  },
  "kernelspec": {
   "display_name": "Python 3.10.1 64-bit",
   "language": "python",
   "name": "python3"
  },
  "language_info": {
   "codemirror_mode": {
    "name": "ipython",
    "version": 3
   },
   "file_extension": ".py",
   "mimetype": "text/x-python",
   "name": "python",
   "nbconvert_exporter": "python",
   "pygments_lexer": "ipython3",
   "version": "3.10.1"
  },
  "orig_nbformat": 4
 },
 "nbformat": 4,
 "nbformat_minor": 2
}

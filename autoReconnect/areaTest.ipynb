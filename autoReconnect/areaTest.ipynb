{
 "cells": [
  {
   "cell_type": "code",
   "execution_count": 3,
   "metadata": {},
   "outputs": [],
   "source": [
    "import requests\n",
    "import json\n",
    "import pandas\n",
    "import time\n",
    "import os\n",
    "import psutil\n",
    "import pyautogui\n",
    "import sys"
   ]
  },
  {
   "cell_type": "code",
   "execution_count": 4,
   "metadata": {},
   "outputs": [],
   "source": [
    "link = \"https://sky.lea.moe/stats/Paradis120202/Watermelon\""
   ]
  },
  {
   "cell_type": "code",
   "execution_count": 12,
   "metadata": {},
   "outputs": [],
   "source": [
    "import winsound, time\n",
    "def constantCheckWithSound():\n",
    "\n",
    "    def checkArea():\n",
    "        res = requests.get(link)\n",
    "        data = res.content.decode(\"utf-8\")\n",
    "        data = data.split(\"\"\"<div class=\"additional-stat\"><span class=\"stat-name\">Current Area: </span><span class=\"stat-value\">\"\"\")\n",
    "        try:\n",
    "            currentArea = data[1].split(\"</span>\")[0]\n",
    "        except IndexError:\n",
    "            currentArea = \"None\"\n",
    "        return currentArea\n",
    "\n",
    "    while True:\n",
    "        time.sleep(120)\n",
    "        currentArea = checkArea()\n",
    "        if currentArea != \"Private Island\":\n",
    "            time.sleep(120)\n",
    "            currentArea = checkArea()\n",
    "            if currentArea != \"Private Island\":\n",
    "                duration = 300\n",
    "                freq = 440\n",
    "                while True:\n",
    "                    winsound.Beep(freq, duration)\n",
    "                    currentArea = checkArea()\n",
    "                    if currentArea == \"Private Island\":\n",
    "                        break\n",
    "                    time.sleep(5)\n",
    "                    \n",
    "\n",
    "\n",
    "constantCheckWithSound()"
   ]
  }
 ],
 "metadata": {
  "interpreter": {
   "hash": "dea5d8f8cc29cf9e16293dbdf8747b85e5f69ab66d8365066b488317c9976378"
  },
  "kernelspec": {
   "display_name": "Python 3.10.1 64-bit",
   "language": "python",
   "name": "python3"
  },
  "language_info": {
   "codemirror_mode": {
    "name": "ipython",
    "version": 3
   },
   "file_extension": ".py",
   "mimetype": "text/x-python",
   "name": "python",
   "nbconvert_exporter": "python",
   "pygments_lexer": "ipython3",
   "version": "3.10.1"
  },
  "orig_nbformat": 4
 },
 "nbformat": 4,
 "nbformat_minor": 2
}

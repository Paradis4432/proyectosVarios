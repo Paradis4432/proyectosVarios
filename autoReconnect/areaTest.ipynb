{
 "cells": [
  {
   "cell_type": "code",
   "execution_count": 3,
   "metadata": {},
   "outputs": [],
   "source": [
    "import requests\n",
    "import json\n",
    "import pandas\n",
    "import time\n",
    "import os\n",
    "import psutil\n",
    "import pyautogui\n",
    "import sys"
   ]
  },
  {
   "cell_type": "code",
   "execution_count": 4,
   "metadata": {},
   "outputs": [],
   "source": [
    "link = \"https://sky.lea.moe/stats/Paradis120202/Watermelon\""
   ]
  },
  {
   "cell_type": "code",
   "execution_count": 4,
   "metadata": {},
   "outputs": [],
   "source": [
    "res = requests.get(link)"
   ]
  },
  {
   "cell_type": "code",
   "execution_count": 5,
   "metadata": {},
   "outputs": [
    {
     "data": {
      "text/plain": [
       "<Response [200]>"
      ]
     },
     "execution_count": 5,
     "metadata": {},
     "output_type": "execute_result"
    }
   ],
   "source": [
    "res"
   ]
  },
  {
   "cell_type": "code",
   "execution_count": 6,
   "metadata": {},
   "outputs": [
    {
     "name": "stdout",
     "output_type": "stream",
     "text": [
      "Private Island\n"
     ]
    }
   ],
   "source": [
    "res = requests.get(link)\n",
    "data = res.content.decode(\"utf-8\")\n",
    "data = data.split(\"\"\"<div class=\"additional-stat\"><span class=\"stat-name\">Current Area: </span><span class=\"stat-value\">\"\"\")\n",
    "try:\n",
    "    currentArea = data[1].split(\"</span>\")[0]\n",
    "except IndexError:\n",
    "    currentArea = \"None\"\n",
    "print(currentArea)"
   ]
  },
  {
   "cell_type": "code",
   "execution_count": 8,
   "metadata": {},
   "outputs": [],
   "source": [
    "import winsound, time\n",
    "def constantCheckWithSound():\n",
    "\n",
    "    def checkArea():\n",
    "        res = requests.get(link)\n",
    "        data = res.content.decode(\"utf-8\")\n",
    "        data = data.split(\"\"\"<div class=\"additional-stat\"><span class=\"stat-name\">Current Area: </span><span class=\"stat-value\">\"\"\")\n",
    "        try:\n",
    "            currentArea = data[1].split(\"</span>\")[0]\n",
    "        except IndexError:\n",
    "            currentArea = \"None\"\n",
    "        return currentArea\n",
    "\n",
    "    while True:\n",
    "        time.sleep(120)\n",
    "        currentArea = checkArea()\n",
    "        if currentArea != \"Private Island\":\n",
    "            time.sleep(120)\n",
    "            currentArea = checkArea()\n",
    "            if currentArea != \"Private Island\":\n",
    "                duration = 300\n",
    "                freq = 440\n",
    "                while True:\n",
    "                    winsound.Beep(freq, duration)\n",
    "                    time.sleep(2)\n",
    "\n",
    "constantCheckWithSound()"
   ]
  },
  {
   "cell_type": "code",
   "execution_count": 13,
   "metadata": {},
   "outputs": [
    {
     "ename": "KeyboardInterrupt",
     "evalue": "",
     "output_type": "error",
     "traceback": [
      "\u001b[1;31m---------------------------------------------------------------------------\u001b[0m",
      "\u001b[1;31mKeyboardInterrupt\u001b[0m                         Traceback (most recent call last)",
      "\u001b[1;32m~\\AppData\\Local\\Temp/ipykernel_14592/867165096.py\u001b[0m in \u001b[0;36m<module>\u001b[1;34m\u001b[0m\n\u001b[0;32m      4\u001b[0m \u001b[1;32mwhile\u001b[0m \u001b[1;32mTrue\u001b[0m\u001b[1;33m:\u001b[0m\u001b[1;33m\u001b[0m\u001b[1;33m\u001b[0m\u001b[0m\n\u001b[0;32m      5\u001b[0m     \u001b[0mwinsound\u001b[0m\u001b[1;33m.\u001b[0m\u001b[0mBeep\u001b[0m\u001b[1;33m(\u001b[0m\u001b[0mfreq\u001b[0m\u001b[1;33m,\u001b[0m \u001b[0mduration\u001b[0m\u001b[1;33m)\u001b[0m\u001b[1;33m\u001b[0m\u001b[1;33m\u001b[0m\u001b[0m\n\u001b[1;32m----> 6\u001b[1;33m     \u001b[0mtime\u001b[0m\u001b[1;33m.\u001b[0m\u001b[0msleep\u001b[0m\u001b[1;33m(\u001b[0m\u001b[1;36m2\u001b[0m\u001b[1;33m)\u001b[0m\u001b[1;33m\u001b[0m\u001b[1;33m\u001b[0m\u001b[0m\n\u001b[0m",
      "\u001b[1;31mKeyboardInterrupt\u001b[0m: "
     ]
    }
   ],
   "source": [
    "import winsound, time\n",
    "duration = 300  # milliseconds\n",
    "freq = 440  # Hz\n",
    "while True:\n",
    "    winsound.Beep(freq, duration)\n",
    "    time.sleep(2)"
   ]
  },
  {
   "cell_type": "code",
   "execution_count": 8,
   "metadata": {},
   "outputs": [],
   "source": [
    "def getCurrentArea():\n",
    "    link = \"https://sky.lea.moe/stats/Paradis120202/Watermelon\"\n",
    "    res = requests.get(link)\n",
    "    data = res.content.decode(\"utf-8\")\n",
    "    data = data.split(\n",
    "        \"\"\"<div class=\"additional-stat\"><span class=\"stat-name\">Current Area: </span><span class=\"stat-value\">\"\"\")\n",
    "    try:\n",
    "        currentArea = data[1].split(\"</span>\")[0]\n",
    "    except IndexError:\n",
    "        print(\"GCA: something went wrong, attempting again\")\n",
    "        res2 = requests.get(link)\n",
    "        data2 = res2.content.decode(\"utf-8\")\n",
    "        data2 = data2.split(\n",
    "            \"\"\"<div class=\"additional-stat\"><span class=\"stat-name\">Current Area: </span><span class=\"stat-value\">\"\"\")\n",
    "        try:\n",
    "            currentArea = data2[1].split(\"</span>\")[0]\n",
    "        except IndexError:\n",
    "            print(\"GCA: second attempt failed, assuming area is not island\")\n",
    "            currentArea = \"None\"\n",
    "\n",
    "    return currentArea"
   ]
  },
  {
   "cell_type": "code",
   "execution_count": 9,
   "metadata": {},
   "outputs": [
    {
     "name": "stdout",
     "output_type": "stream",
     "text": [
      "Private Island\n"
     ]
    }
   ],
   "source": [
    "print(getCurrentArea())"
   ]
  },
  {
   "cell_type": "code",
   "execution_count": null,
   "metadata": {},
   "outputs": [],
   "source": []
  },
  {
   "cell_type": "code",
   "execution_count": 7,
   "metadata": {},
   "outputs": [],
   "source": [
    "rut = requests.get(\"https://secure-ausomxbga.crmondemand.com/OnDemand/user/Homepage\")"
   ]
  },
  {
   "cell_type": "code",
   "execution_count": 11,
   "metadata": {},
   "outputs": [
    {
     "data": {
      "text/plain": [
       "b'<!DOCTYPE HTML PUBLIC \"-//W3C//DTD HTML 4.01 Transitional//EN\" \"http://www.w3.org/TR/html4/loose.dtd\"><html><head><title>Welcome to Oracle CRM On Demand</title><link rel=\"stylesheet\" href=\"&#x2f;OnDemand&#x2f;043.011.003&#x2f;enu&#x2f;themes&#x2f;classic&#x2f;css&#x2f;main.css\" type=\"text&#x2f;css\" /><link rel=\"shortcut&#x20;icon\" href=\"&#x2f;OnDemand&#x2f;043.011.003&#x2f;base&#x2f;icons&#x2f;favicon.ico\" /><script type=\"text&#x2f;javascript\" src=\"&#x2f;OnDemand&#x2f;043.011.003&#x2f;scripts&#x2f;od_lang_enu.js\"></script><script type=\"text&#x2f;javascript\" src=\"&#x2f;OnDemand&#x2f;043.011.003&#x2f;scripts&#x2f;od_home.js\"></script><script type=\"text&#x2f;javascript\">disableClickjacking();</script><script type=\"text/javascript\">\\nfunction checkEnterLogon (event){   var code;   if (document.layers) {      code = event.which;   } else {      code = event.keyCode;   }   if (code == 13) {      if (!isLinkBtnDisabled(\\'BTN_SC_Login\\')) {         document.getElementById(\\'BTN_SC_Login\\').parentNode.className = \\'disableLogonScreenButtonTD\\';         checkPreSubmit (document.logonForm);      }      return false;   } else {      return true;   }}function checkEnterTrialSignup (event){   var code;   if (document.layers) {      code = event.which;   } else {      code = event.keyCode;   }   if (code == 13) {      checkPreSubmit (document.trialSignupForm);      return false;   } else {      return true;   }}function checkPreSubmit(oForm){  oForm.submit();}function isLinkBtnDisabled(id){  return (id == null || document.getElementById(id).parentNode.className == \\'disableLogonScreenButtonTD\\');}function checkTopFrame(){   var rootWindow = getRootOccamWindow ();   if (window != rootWindow)   {      rootWindow.location = window.location;   }}function loaded(){   checkTopFrame();   document.logonForm.j_username.focus();}</script>\\n</head><body link=\"black\" bgcolor=\"white\" onload=\"loaded&#x28;&#x29;&#x3b;\"><table cellspacing=\"0\" border=\"0\" style=\"width&#x3a;&#x20;100&#x25;&#x3b;&#x20;height&#x3a;&#x20;100&#x25;\" cellpadding=\"0\"><tr><td valign=\"top\"><table width=\"100&#x25;\" cellspacing=\"0\" border=\"0\" cellpadding=\"0\"><tr><td class=\"logonCell\" height=\"45\"><center><img src=\"043.011.003&#x2f;base&#x2f;themes&#x2f;classic&#x2f;images&#x2f;logo_oracle_siebel_ondemand.gif\" /></center></td></tr></table><br><br /><center><table width=\"570\" cellspacing=\"0\" border=\"0\" cellpadding=\"0\"><tr><td><br /><br /><br /><br /><br /></td></tr><tr><td align=\"center\"><br><form name=\"logonForm\" action=\"https&#x3a;&#x2f;&#x2f;sso.crmondemand.com&#x2f;router&#x2f;authenticate\" method=\"post\" autocomplete=\"off\"><table cellspacing=\"3\" border=\"0\" cellpadding=\"1\"><tr><td align=\"right\"><span style=\"vertical-align&#x3a;middle&#x3b;\" class=\"logonFont\">User Sign In ID</span></td><td style=\"padding-right&#x3a;2px\"><input size=\"40\" maxlength=\"50\" name=\"j_username\" style=\"height&#x3a;22px&#x3b;width&#x3a;300px&#x3b;\" id=\"IPT_SC_SignIn\" type=\"text\" value=\"\" onkeypress=\"return&#x20;checkEnterLogon&#x28;event&#x29;&#x3b;\" /></td></tr><tr><td align=\"right\"><span style=\"vertical-align&#x3a;&#x20;middle&#x3b;\" class=\"logonFont\">Password</span></td><td style=\"padding-right&#x3a;2px\"><input size=\"40\" maxlength=\"32\" name=\"j_password\" style=\"height&#x3a;22px&#x3b;width&#x3a;300px&#x3b;\" id=\"IPT_SC_Password\" type=\"password\" onkeypress=\"return&#x20;checkEnterLogon&#x28;event&#x29;&#x3b;\" /></td></tr><tr><td></td><td style=\"padding-right&#x3a;1px\"><table border=\"0\" cellpadding=\"0\" width=\"300px\" cellspacing=\"0\"><tr><td style=\"width&#x3a;22px\"><input name=\"rememberMe\" id=\"IPT_SC_RememberMe\" type=\"checkbox\" onkeypress=\"return&#x20;checkEnterLogon&#x28;event&#x29;&#x3b;\" /></td><td class=\"logonFont\">Remember My User ID</td><td align=\"right\"><table border=\"0\" cellpadding=\"0\" cellspacing=\"0\"><tr><td onmouseover=\"if&#x28;className&#x21;&#x3d;&#x27;disableLogonScreenButtonTD&#x27;&#x29;&#x7b;&#x20;className&#x3d;&#x27;logonScreenButtonTD-inv&#x27;&#x7d;&#x3b;&#x3b;\" onmouseout=\"if&#x28;className&#x21;&#x3d;&#x27;disableLogonScreenButtonTD&#x27;&#x29;&#x7b;&#x20;className&#x3d;&#x27;logonScreenButtonTD&#x27;&#x7d;&#x3b;&#x3b;\" class=\"logonScreenButtonTD\" onclick=\"className&#x3d;&#x27;disableLogonScreenButtonTD&#x27;&#x3b;&#x3b;\"><a id=\"BTN_SC_Login\" href=\"javascript&#x3a;void&#x28;0&#x29;\" class=\"loginLink\" onclick=\"if&#x28;&#x21;isLinkBtnDisabled&#x28;&#x27;BTN_SC_Login&#x27;&#x29;&#x29;&#x7b;checkPreSubmit&#x20;&#x28;document.logonForm&#x29;&#x3b;&#x7d;&#x20;return&#x20;false&#x3b;&#x3b;\" onkeypress=\"if&#x28;&#x21;isLinkBtnDisabled&#x28;&#x27;BTN_SC_Login&#x27;&#x29;&#x29;&#x7b;return&#x20;checkEnterLogon&#x28;event&#x29;&#x3b;&#x7d;&#x20;else&#x20;return&#x20;false&#x3b;&#x3b;\">Sign In</a></td></tr></table></td></tr></table></td></tr></table><input name=\"redirect\" type=\"hidden\" value=\"&#x24;7&#x24;kdvbn&#x2f;zgs1JsYs&#x2b;&#x2f;VW7CaDvkmCF0nt58dxN2NskhjPRHhYF6EdjxKSnXxDZVoEhQcPXxRnBlv&#x2b;91tjpfA1e1tVTbHWtaOQ2ZAeGBSPgVQnyanGif0hZ312tXkmtwGrHkko130muI4kUZT23CNCDrlkhTU&#x3d;\" /><input name=\"langCode\" type=\"hidden\" value=\"ENU\" /></form></td></tr><tr><td style=\"padding-top&#x3a;8px\" align=\"center\"><form method=\"get\" autocomplete=\"off\" name=\"cantAccessAccountForm\" action=\"CantAccessAccount\"><table><tr><td><a id=\"LNK_SC_CantAccessAccount\" href=\"javascript&#x3a;void&#x28;0&#x29;\" class=\"forgotPasswd\" onclick=\"document.cantAccessAccountForm.submit&#x28;&#x29;&#x3b;return&#x20;false&#x3b;\">Can&#x27;t access your account?</a></td></tr></table><input name=\"lang\" type=\"hidden\" value=\"ENU\" /></form></td></tr></table></center></td></tr><tr><td style=\"height&#x3a;100px\" align=\"center\"><table border=\"0\" cellpadding=\"0\" width=\"435\" cellspacing=\"0\"><tr><td align=\"center\"><span class=\"unauthorizedWarningFont\"><br><br>Unauthorized use of this site is prohibited and may be subject to civil and criminal prosecution.</span></td></tr></table></td></tr></table></body></html>'"
      ]
     },
     "execution_count": 11,
     "metadata": {},
     "output_type": "execute_result"
    }
   ],
   "source": [
    "rut.content"
   ]
  }
 ],
 "metadata": {
  "interpreter": {
   "hash": "dea5d8f8cc29cf9e16293dbdf8747b85e5f69ab66d8365066b488317c9976378"
  },
  "kernelspec": {
   "display_name": "Python 3.10.1 64-bit",
   "language": "python",
   "name": "python3"
  },
  "language_info": {
   "codemirror_mode": {
    "name": "ipython",
    "version": 3
   },
   "file_extension": ".py",
   "mimetype": "text/x-python",
   "name": "python",
   "nbconvert_exporter": "python",
   "pygments_lexer": "ipython3",
   "version": "3.10.1"
  },
  "orig_nbformat": 4
 },
 "nbformat": 4,
 "nbformat_minor": 2
}
